{
 "cells": [
  {
   "cell_type": "code",
   "execution_count": 6,
   "id": "3952a800-6a34-4ef7-8563-d2e3dcc41780",
   "metadata": {},
   "outputs": [
    {
     "data": {
      "application/vnd.jupyter.widget-view+json": {
       "model_id": "ce309aee514d445e9cca69ead825a0a2",
       "version_major": 2,
       "version_minor": 0
      },
      "text/plain": [
       "TextField(layout=None, rules=['yo', 'man', True])"
      ]
     },
     "execution_count": 6,
     "metadata": {},
     "output_type": "execute_result"
    }
   ],
   "source": [
    "import ipyvuetify as v\n",
    "    \n",
    "t = v.TextField()\n",
    "t.rules=['yo','man',True]\n",
    "t"
   ]
  },
  {
   "cell_type": "code",
   "execution_count": null,
   "id": "37084fd2-a203-477c-a3bb-53dedbf860f2",
   "metadata": {},
   "outputs": [],
   "source": []
  }
 ],
 "metadata": {
  "kernelspec": {
   "display_name": "Python 3 (ipykernel)",
   "language": "python",
   "name": "python3"
  },
  "language_info": {
   "codemirror_mode": {
    "name": "ipython",
    "version": 3
   },
   "file_extension": ".py",
   "mimetype": "text/x-python",
   "name": "python",
   "nbconvert_exporter": "python",
   "pygments_lexer": "ipython3",
   "version": "3.12.2"
  }
 },
 "nbformat": 4,
 "nbformat_minor": 5
}
